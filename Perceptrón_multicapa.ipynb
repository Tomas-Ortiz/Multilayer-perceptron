{
  "nbformat": 4,
  "nbformat_minor": 0,
  "metadata": {
    "colab": {
      "name": "Perceptrón multicapa.ipynb",
      "provenance": [],
      "collapsed_sections": [],
      "authorship_tag": "ABX9TyMiu/+TiQKqg0Ip8loL7CiB",
      "include_colab_link": true
    },
    "kernelspec": {
      "name": "python3",
      "display_name": "Python 3"
    }
  },
  "cells": [
    {
      "cell_type": "markdown",
      "metadata": {
        "id": "view-in-github",
        "colab_type": "text"
      },
      "source": [
        "<a href=\"https://colab.research.google.com/github/Tomas-Ortiz/Multilayer-perceptron/blob/master/Perceptr%C3%B3n_multicapa.ipynb\" target=\"_parent\"><img src=\"https://colab.research.google.com/assets/colab-badge.svg\" alt=\"Open In Colab\"/></a>"
      ]
    },
    {
      "cell_type": "code",
      "metadata": {
        "id": "avoiyK9RRYFj",
        "colab_type": "code",
        "colab": {}
      },
      "source": [
        "import numpy as np\n",
        "import scipy as sc\n",
        "#Visualizar gráficos\n",
        "import matplotlib.pyplot as plt\n",
        "#Dataset con datos distribuidos en circulos\n",
        "from sklearn.datasets import make_circles\n"
      ],
      "execution_count": null,
      "outputs": []
    },
    {
      "cell_type": "code",
      "metadata": {
        "id": "aLPnD3Mm4O6H",
        "colab_type": "code",
        "colab": {
          "base_uri": "https://localhost:8080/",
          "height": 299
        },
        "outputId": "be5bf30f-2a8e-48ea-813a-0ad6b5f76c36"
      },
      "source": [
        "#Crear datasets\n",
        "\n",
        "n_ejemplos = 600\n",
        "n_atributos = 2\n",
        "\n",
        "#X input (vector de entrada), Y output (salida deseada, única y binaria)\n",
        "\n",
        "X, Y = make_circles(n_samples=n_ejemplos, factor= 0.4, noise=0.04)\n",
        "\n",
        "#Para todas las filas (:, entradas), crear una sola dimension (unica salida)\n",
        "Y = Y[:, np.newaxis]\n",
        "\n",
        "#X: 600 entradas, con 2 atributos cada entrada\n",
        "print(f'Entradas: {X.shape}')\n",
        "\n",
        "#Y: Una salida para cada una de las 600 entradas\n",
        "print(f'Salidas: {Y.shape}')\n",
        "\n",
        "#Y == 0 puntos en celeste\n",
        "#Y == 1 puntos en amarillo\n",
        "plt.scatter(X[Y[:, 0] == 0, 0], X[Y[:, 0] == 0, 1], c=\"skyblue\")\n",
        "plt.scatter(X[Y[:, 0] == 1, 0], X[Y[:, 0] == 1, 1], c=\"yellow\")\n",
        "plt.axis(\"equal\")\n",
        "plt.show()"
      ],
      "execution_count": null,
      "outputs": [
        {
          "output_type": "stream",
          "text": [
            "Entradas: (600, 2)\n",
            "Salidas: (600, 1)\n"
          ],
          "name": "stdout"
        },
        {
          "output_type": "display_data",
          "data": {
            "image/png": "[encoded data removed]",
            "text/plain": [
              "<Figure size 432x288 with 1 Axes>"
            ]
          },
          "metadata": {
            "tags": [],
            "needs_background": "light"
          }
        }
      ]
    },
    {
      "cell_type": "code",
      "metadata": {
        "id": "FFYamIDd9bVB",
        "colab_type": "code",
        "colab": {}
      },
      "source": [
        "#Clase que permite crear capas con sus respectivos datos\n",
        "\n",
        "class capa_neuronal():\n",
        "\n",
        "#Inicializacion aleatoria de los parámetros de cada capa\n",
        "\n",
        "  def __init__ (self, n_conex, n_neur, func_activ):\n",
        "\n",
        "    self.func_activ = func_activ\n",
        "    self.n_neur = n_neur\n",
        "    self. n_conex = n_conex\n",
        "\n",
        "    #rand(n_filas, n_columnas)\n",
        "    #valores aleatorios de -1 a 1\n",
        "\n",
        "    #b = bias (vector)\n",
        "    # W = pesos (matriz)\n",
        "    self.b = np.random.rand(1, n_neur) * 2 - 1\n",
        "    self.W = np.random.rand(n_conex, n_neur) * 2 -1\n"
      ],
      "execution_count": null,
      "outputs": []
    },
    {
      "cell_type": "code",
      "metadata": {
        "id": "XUFpqyT3D_0o",
        "colab_type": "code",
        "colab": {
          "base_uri": "https://localhost:8080/",
          "height": 282
        },
        "outputId": "a43870de-d666-4026-d966-232f9f7093f7"
      },
      "source": [
        "#Funcion de activacion\n",
        "\n",
        "#Formula y derivada de la funcion de activación\n",
        "\n",
        "sigm = (lambda x: 1 / (1 + np.e ** (-x)),\n",
        "        lambda x: x * (1-x))\n",
        "\n",
        "_x = np.linspace(-5, 5, 70)\n",
        "\n",
        "#plot(puntos eje x, puntos eje y)\n",
        "\n",
        "plt.plot(_x, sigm[0](_x))"
      ],
      "execution_count": null,
      "outputs": [
        {
          "output_type": "execute_result",
          "data": {
            "text/plain": [
              "[<matplotlib.lines.Line2D at 0x7f11dfc9c518>]"
            ]
          },
          "metadata": {
            "tags": []
          },
          "execution_count": 7
        },
        {
          "output_type": "display_data",
          "data": {
            "image/png": "[encoded data removed]",
            "text/plain": [
              "<Figure size 432x288 with 1 Axes>"
            ]
          },
          "metadata": {
            "tags": [],
            "needs_background": "light"
          }
        }
      ]
    },
    {
      "cell_type": "code",
      "metadata": {
        "id": "ahDev6ShGHSX",
        "colab_type": "code",
        "colab": {
          "base_uri": "https://localhost:8080/",
          "height": 238
        },
        "outputId": "8ad7091e-da4f-4703-87ae-9707453d4472"
      },
      "source": [
        "def crear_red_neuronal (neur_capa, func_activ):\n",
        "\n",
        "  #contendrá las capas creadas con sus parámetros aleatorios\n",
        "  red_neuronal = []\n",
        "\n",
        "  #[:-1] omite el último valor del vector para evitar error de indice\n",
        "\n",
        "  for i, capa in enumerate(neur_capa[:-1]):\n",
        "    #n_conex, n_neur, funcion activacion\n",
        "    red_neuronal.append(capa_neuronal(neur_capa[i], neur_capa[i+1], func_activ))\n",
        "\n",
        "  return red_neuronal\n",
        "\n",
        "#Neuronas por capa (4 capas)\n",
        "neur_capa = [n_atributos, 4, 4, 1]\n",
        "\n",
        "red_neuronal = crear_red_neuronal(neur_capa, sigm)\n",
        "\n",
        "print('Arquitectura red neuronal \\n')\n",
        "print(f'Capa 0: \\n Capa de entrada') \n",
        "for i, capa in enumerate(red_neuronal):\n",
        "  print(f'Capa {i+1}: \\n {capa.n_conex} Conexiones recibidas \\n {capa.n_neur} Neuronas') \n"
      ],
      "execution_count": null,
      "outputs": [
        {
          "output_type": "stream",
          "text": [
            "Arquitectura red neuronal \n",
            "\n",
            "Capa 0: \n",
            " Capa de entrada\n",
            "Capa 1: \n",
            " 2 Conexiones recibidas \n",
            " 4 Neuronas\n",
            "Capa 2: \n",
            " 4 Conexiones recibidas \n",
            " 4 Neuronas\n",
            "Capa 3: \n",
            " 4 Conexiones recibidas \n",
            " 1 Neuronas\n"
          ],
          "name": "stdout"
        }
      ]
    },
    {
      "cell_type": "code",
      "metadata": {
        "id": "rcNTt7ShQhUV",
        "colab_type": "code",
        "colab": {}
      },
      "source": [
        "#Función de error: error cuadrático medio\n",
        "\n",
        "#Yd salida deseada \n",
        "#Yp salida real predicha\n",
        "\n",
        "funcion_error = (lambda Yd, Yr: np.mean((Yd - Yr) ** 2),\n",
        "                 lambda Yd, Yr: (Yd - Yr))\n",
        "\n",
        "def entrenar(red_neuronal, X, Y, funcion_error, tasa_aprend = 0.05, entrenando = True):\n",
        "\n",
        "  # Suma de entradas ponderadas = X * W + b\n",
        "\n",
        "  # se guarda la suma de las entradas ponderadas y activaciones de cada capa [(suma [0], activacion[1])]\n",
        "  # al principio, la entrada recibida por la primera capa oculta es el vector de entrada X\n",
        "  salida_capa = [(None, X)]\n",
        "\n",
        "  #SE CALCULA LA SUMA DE LAS ENTRADAS PONDERADAS Y ACTIVACION DE CADA CAPA\n",
        "  for i, capa in enumerate(red_neuronal):\n",
        "\n",
        "    # La entrada será la salida producida por la capa anterior\n",
        "    # -1 nos da el último elemento (salida) y 1 la activación producida\n",
        "\n",
        "    suma_entradas_pond = salida_capa[-1][1] @ red_neuronal[i].W + red_neuronal[i].b\n",
        "    activacion = red_neuronal[i].func_activ[0](suma_entradas_pond)\n",
        "\n",
        "    salida_capa.append((suma_entradas_pond, activacion))\n",
        "\n",
        "  #SI SE ESTÁ ENTRENANDO SE APLICA BACKPROPAGATION Y DESCENSO DEL GRADIENTE\n",
        "  if entrenando:\n",
        "\n",
        "    errores = []\n",
        "\n",
        "    # se recorre desde atrás (ultima capa) hacia adelante\n",
        "    for i in reversed(range(0, len(red_neuronal))):\n",
        "\n",
        "      # i empieza en 2\n",
        "      # len(red_neuronal) = 3\n",
        "      # len(salida_capa) = 4\n",
        "\n",
        "      suma_entradas_pond = salida_capa[i + 1][0]\n",
        "      activacion = salida_capa[i + 1][1]\n",
        "\n",
        "      #calcular error en la capa de salida\n",
        "      if i == len(red_neuronal) - 1:\n",
        "        errores.insert(0, funcion_error[1](activacion, Y) * red_neuronal[i].func_activ[1](activacion))\n",
        "\n",
        "      #calcular el error en el resto de capas ocultas\n",
        "      # T = traspuesta\n",
        "      else:\n",
        "        #El error de una capa oculta depende del error de la capa anterior\n",
        "        #[0] se refiere al ultimo error insertado\n",
        "        errores.insert(0, errores[0] @ W_siguiente.T * red_neuronal[i].func_activ[1](activacion))\n",
        "\n",
        "      #variable auxiliar que guarda los pesos de la capa anterior\n",
        "      W_siguiente = red_neuronal[i].W\n",
        "\n",
        "      #DESCENSO DEL GRADIENTE: Se optimizan los parámetros de cada capa en función del error calculado en cada capa\n",
        "      red_neuronal[i].b = red_neuronal[i].b - np.mean(errores[0], axis=0, keepdims=True) * tasa_aprend\n",
        "      red_neuronal[i].W = red_neuronal[i].W - salida_capa[i][1].T @ errores[0] * tasa_aprend\n",
        "\n",
        "  #Se devuelve el valor de activación (1) de la última capa (-1) de la red (capa de salida)\n",
        "  return salida_capa[-1][1]\n",
        "\n"
      ],
      "execution_count": null,
      "outputs": []
    },
    {
      "cell_type": "code",
      "metadata": {
        "id": "4z4mpnQ85EAI",
        "colab_type": "code",
        "colab": {
          "base_uri": "https://localhost:8080/",
          "height": 562
        },
        "outputId": "2b9c0760-57c4-4e7a-df9b-710323e30f10"
      },
      "source": [
        "import time \n",
        "from IPython.display import clear_output\n",
        "\n",
        "#Se registrará el error de entrenamiento cada n iteraciones\n",
        "error = []\n",
        "iteraciones = 2800\n",
        "\n",
        "#El entrenamiento se repite n iteraciones\n",
        "for i in range(iteraciones):\n",
        "\n",
        "  S = entrenar(red_neuronal, X, Y, funcion_error, tasa_aprend = 0.1)\n",
        "\n",
        "  #Cada 20 iteraciones\n",
        "  if i % 20 == 0:\n",
        "\n",
        "    #Se guarda el error producido\n",
        "    error.append(funcion_error[0](S, Y))\n",
        "\n",
        "    # SE VAN A GENERAR 2 GRÁFICOS CADA 20 ITERACIONES:\n",
        "    #GRÁFICO PARA VISUALIZAR SI LA RED SEPARA CORRECTAMENTE LAS 2 CLASES\n",
        "    #GRÁFICO PARA VISUALIZAR LA EVOLUCIÓN DEL ERROR\n",
        "\n",
        "    resolucion = 50\n",
        "\n",
        "    #Se generan 50 numeros en el intervalo (-2, 2)\n",
        "    #Para el eje x (_x0) e y (_x1)\n",
        "    puntos_x = np.linspace(-2, 2, resolucion)\n",
        "    puntos_y = np.linspace(-2, 2, resolucion)\n",
        "\n",
        "    #np.zeros devuelve una matriz nxn de ceros\n",
        "    salidas_validacion = np.zeros((resolucion, resolucion))\n",
        "\n",
        "    #Se va a ejecutar 2500 (50x50) veces cada 20 iteraciones\n",
        "    for n_fila, x in enumerate(puntos_x):\n",
        "      for n_columna, y in enumerate(puntos_y):\n",
        "        #Se genera una matriz 50x50 (salidas_validacion) de todas las salidas producidas\n",
        "        #No se entrena sino que directamente se obtienen las salidas\n",
        "        salidas_validacion[n_fila, n_columna] = entrenar(red_neuronal, np.array([[x, y]]), Y, funcion_error, entrenando=False)[0][0]\n",
        "        #print(f'x={x}, y={y}, salida = {salidas_validacion[n_fila, n_columna]}')\n",
        "\n",
        "    #puntos_x, puntos_y son las coordenadas de las esquinas cuadriláteras\n",
        "    # salidas_validacion son los puntos de la matriz que deben asignarse en color\n",
        "    plt.title(\"Clasificación entre 2 clases\")\n",
        "    plt.pcolormesh(puntos_x, puntos_y, salidas_validacion, cmap=\"coolwarm\")\n",
        "    plt.axis(\"equal\")\n",
        "\n",
        "    plt.scatter(X[Y[:, 0] == 0, 0], X[Y[:, 0] == 0, 1], c=\"skyblue\")\n",
        "    plt.scatter(X[Y[:, 0] == 1, 0], X[Y[:, 0] == 1, 1], c=\"yellow\")\n",
        "\n",
        "    #Los gráficos se actualizan dinámicamente (se borran y se vuelven a generar)\n",
        "    #wait=True: se espera a borrar los gráficos hasta que haya un nuevo gráfico disponible\n",
        "    clear_output(wait=True)\n",
        "    plt.show()\n",
        "\n",
        "    #Se muestra como varía el error cada 20 iteraciones\n",
        "    #plot (x = n error calculado, y = error producido)\n",
        "    plt.title(\"Evolución del error\")\n",
        "    plt.plot(range(len(error)), error)\n",
        "    print(f'Iteracion {i}, MSE = {error[-1]}')\n",
        "    plt.show()\n",
        "\n",
        "    time.sleep(0.5)\n",
        "\n"
      ],
      "execution_count": null,
      "outputs": [
        {
          "output_type": "display_data",
          "data": {
            "image/png": "[encoded data removed]",
            "text/plain": [
              "<Figure size 432x288 with 1 Axes>"
            ]
          },
          "metadata": {
            "tags": [],
            "needs_background": "light"
          }
        },
        {
          "output_type": "stream",
          "text": [
            "Iteracion 2780, MSE = 1.0715192118223382e-05\n"
          ],
          "name": "stdout"
        },
        {
          "output_type": "display_data",
          "data": {
            "image/png": "[encoded data removed]",
            "text/plain": [
              "<Figure size 432x288 with 1 Axes>"
            ]
          },
          "metadata": {
            "tags": [],
            "needs_background": "light"
          }
        }
      ]
    }
  ]
}